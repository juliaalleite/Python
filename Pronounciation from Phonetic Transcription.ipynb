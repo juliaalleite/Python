{
 "cells": [
  {
   "cell_type": "code",
   "execution_count": 1,
   "id": "947a3756-157b-40d6-92c1-7bce0f375e51",
   "metadata": {},
   "outputs": [
    {
     "name": "stdout",
     "output_type": "stream",
     "text": [
      "Collecting pyttsx3\n",
      "  Downloading pyttsx3-2.90-py3-none-any.whl.metadata (3.6 kB)\n",
      "Collecting comtypes (from pyttsx3)\n",
      "  Downloading comtypes-1.3.1-py3-none-any.whl.metadata (5.6 kB)\n",
      "Collecting pypiwin32 (from pyttsx3)\n",
      "  Downloading pypiwin32-223-py3-none-any.whl.metadata (236 bytes)\n",
      "Requirement already satisfied: pywin32 in c:\\users\\julia\\anaconda3\\lib\\site-packages (from pyttsx3) (305.1)\n",
      "Downloading pyttsx3-2.90-py3-none-any.whl (39 kB)\n",
      "Downloading comtypes-1.3.1-py3-none-any.whl (197 kB)\n",
      "   ---------------------------------------- 0.0/197.8 kB ? eta -:--:--\n",
      "   -------------- ------------------------- 71.7/197.8 kB 1.3 MB/s eta 0:00:01\n",
      "   ---------------------------------------- 197.8/197.8 kB 2.4 MB/s eta 0:00:00\n",
      "Downloading pypiwin32-223-py3-none-any.whl (1.7 kB)\n",
      "Installing collected packages: comtypes, pypiwin32, pyttsx3\n",
      "Successfully installed comtypes-1.3.1 pypiwin32-223 pyttsx3-2.90\n",
      "Note: you may need to restart the kernel to use updated packages.\n"
     ]
    }
   ],
   "source": [
    "# Install the pyttsx3 library.\n",
    "pip install pyttsx3"
   ]
  },
  {
   "cell_type": "code",
   "execution_count": 3,
   "id": "792ebf5b-4de2-4b3c-b26f-2102a3d9437f",
   "metadata": {},
   "outputs": [],
   "source": [
    "# Import the pyttsx3 library\n",
    "import pyttsx3\n",
    "\n",
    "# Initialize the Text-to-Speech Engine\n",
    "engine = pyttsx3.init()"
   ]
  },
  {
   "cell_type": "code",
   "execution_count": 7,
   "id": "96bb9ca1-b0a0-46c3-936f-882921527604",
   "metadata": {},
   "outputs": [],
   "source": [
    "text = \"Zhoo-LEE-ah AH-ree-as LAH-rah LAY-chee\"\n",
    "engine.say(text)\n",
    "engine.runAndWait()"
   ]
  }
 ],
 "metadata": {
  "kernelspec": {
   "display_name": "Python 3 (ipykernel)",
   "language": "python",
   "name": "python3"
  },
  "language_info": {
   "codemirror_mode": {
    "name": "ipython",
    "version": 3
   },
   "file_extension": ".py",
   "mimetype": "text/x-python",
   "name": "python",
   "nbconvert_exporter": "python",
   "pygments_lexer": "ipython3",
   "version": "3.11.7"
  }
 },
 "nbformat": 4,
 "nbformat_minor": 5
}
