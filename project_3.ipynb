{
 "cells": [
  {
   "cell_type": "markdown",
   "metadata": {},
   "source": [
    "# Computing in Context: Public Policy\n",
    "## Project 3: Data Fusion and Visualization\n",
    "\n",
    "In the final project, you are going to use everything you have learned about Exploratory Data Analysis, Data Transformations, Data Summarization, and especially Data Fusion and Data Visualization.\n",
    "\n",
    "Specifically, you need to do the following things in this project:\n",
    "\n",
    "- State a policy question you want to answer\n",
    "- Choose a primary dataset that is relevant to your question\n",
    "- Choose a secondary dataset that can be combined with your primary dataset to help answer your question\n",
    "- Perform any necessary data transformations on your primary and secondary datasets\n",
    "- Perform any necessary aggregations to summarize your primary and secondary datasets\n",
    "- Combine the datasets\n",
    "- Perform any additional analysis on your combined data set to answer your question\n",
    "- Create a data visualization using your combined data that supports the answer to your question\n",
    "\n",
    "The project is due Sunday, December 12. To submit the project, upload the completed notebook to the COMSW1002 Courseworks following the convention UNI_proj3.ipynb.\n",
    "\n",
    "**We encourage you to work in groups of 2 on this project, but you have the option to work alone if you like.**\n",
    "\n",
    "**You may not use grace hours on this project.**\n",
    "\n",
    "For the datasets, here is some guidance:\n",
    "\n",
    "- You can use any of the datasets from lecture, lab, or the projects.\n",
    "- If you are sick of those datasets, below are two possible primary datasets you can choose from and two possible secondary datasets you can choose from.\n",
    "- If you want to bring your own data (that we have not used in lecture, lab, or the first two projects and are not listed below), you will receive up to 10 bonus points based on the quality of the datasets you choose.\n",
    "- For the primary dataset, the unit of observation should make sense and not be overly aggregated.\n",
    "- Your secondary dataset might be more aggregated than your primary dataset.\n",
    "- There are no hard and fast rules, but I encourage you to look for a primary dataset with at least 1000 rows.\n",
    "\n",
    "Possible primary datasets:\n",
    "\n",
    "- [NYC Department of Buildings construction and demolition permits](https://data.cityofnewyork.us/Housing-Development/DOB-Permit-Issuance/ipu4-2q9a)\n",
    "- [NYPD felony, misdemeanor, and violation crime reports](https://data.cityofnewyork.us/Public-Safety/NYPD-Complaint-Data-Historic/qgea-i56i)\n",
    "\n",
    "Possible secondary datasets:\n",
    "\n",
    "- [NYC Neighborhood Tabulation Area demographics](https://data.cityofnewyork.us/City-Government/Demographic-Profiles-of-ACS-5-Year-Estimates-at-th/8cwr-7pqn)\n",
    "- [NOAA NY daily weather data](https://w2.weather.gov/climate/xmacis.php?wfo=okx)\n",
    "\n",
    "**You can move around the order of the below tasks as needed based on your datasets and analysis.**"
   ]
  },
  {
   "cell_type": "markdown",
   "metadata": {},
   "source": [
    "---\n",
    "\n",
    "### Task 0 (5 points)\n",
    "\n",
    "Import any Python libraries you use in the project."
   ]
  },
  {
   "cell_type": "code",
   "execution_count": null,
   "metadata": {},
   "outputs": [],
   "source": [
    "import pandas as pd"
   ]
  },
  {
   "cell_type": "markdown",
   "metadata": {},
   "source": [
    "---\n",
    "\n",
    "### Task 1 (10 points)\n",
    "\n",
    "State the policy question you want to answer in one sentence."
   ]
  },
  {
   "cell_type": "markdown",
   "metadata": {},
   "source": []
  },
  {
   "cell_type": "markdown",
   "metadata": {},
   "source": [
    "---\n",
    "\n",
    "### Task 2 (5 points)\n",
    "\n",
    "Describe the primary dataset you are using to help answer this question. Please include:\n",
    "\n",
    "- The source of the dataset\n",
    "- A link to a CSV file of the dataset\n",
    "- What each row in the dataset represents\n",
    "- Which columns are relevant to your analysis and what they represent"
   ]
  },
  {
   "cell_type": "markdown",
   "metadata": {},
   "source": []
  },
  {
   "cell_type": "markdown",
   "metadata": {},
   "source": [
    "Read in your primary dataset and show us the first five rows of the relevant columns."
   ]
  },
  {
   "cell_type": "code",
   "execution_count": null,
   "metadata": {},
   "outputs": [],
   "source": []
  },
  {
   "cell_type": "markdown",
   "metadata": {},
   "source": [
    "---\n",
    "\n",
    "### Task 3 (5 points)\n",
    "\n",
    "Describe the secondary dataset you are using to help answer your question. Please include:\n",
    "\n",
    "- The source of the dataset\n",
    "- A link to a CSV file of the dataset\n",
    "- What each row in the dataset represents\n",
    "- Which columns are relevant to your analysis and what they represent"
   ]
  },
  {
   "cell_type": "markdown",
   "metadata": {},
   "source": []
  },
  {
   "cell_type": "markdown",
   "metadata": {},
   "source": [
    "Read in your primary dataset and show us the first five rows of the relevant columns."
   ]
  },
  {
   "cell_type": "markdown",
   "metadata": {},
   "source": []
  },
  {
   "cell_type": "markdown",
   "metadata": {
    "tags": []
   },
   "source": [
    "---\n",
    "\n",
    "### Task 5 (15 points)\n",
    "\n",
    "Perform any necessary data transformations on your primary and secondary datasets. Necessary data transformations could include cleaning messy columns or creating new columns necessary for your analysis. Use comments to explain what you are doing, but you do not need to show us the exploratory data analysis that lead you to identify the data transformations. "
   ]
  },
  {
   "cell_type": "code",
   "execution_count": null,
   "metadata": {},
   "outputs": [],
   "source": []
  },
  {
   "cell_type": "markdown",
   "metadata": {},
   "source": [
    "---\n",
    "\n",
    "### Task 6 (15 points)\n",
    "\n",
    "Perform any necessary aggregations to summarize your primary and secondary datasets before creating a combined dataset. Use comments to explain what you are doing. If you do not need to summarize your primary or secondary datasets before combining them, you can move this task to after task 6 where you have created a combined dataset."
   ]
  },
  {
   "cell_type": "code",
   "execution_count": null,
   "metadata": {},
   "outputs": [],
   "source": []
  },
  {
   "cell_type": "markdown",
   "metadata": {},
   "source": [
    "---\n",
    "\n",
    "### Task 7 (15 points)\n",
    "\n",
    "Combine your primary and secondary datasets. Follow the best practices we discussed in class for mergining datasets."
   ]
  },
  {
   "cell_type": "code",
   "execution_count": null,
   "metadata": {},
   "outputs": [],
   "source": []
  },
  {
   "cell_type": "markdown",
   "metadata": {},
   "source": [
    "---\n",
    "\n",
    "### Task 8 (15 points)\n",
    "\n",
    "State the answer to the question you posed in Task 1 in 1-3 sentences. Include any code for additional transformations, summarizations, or other analysis you need to do on your combined dataset."
   ]
  },
  {
   "cell_type": "code",
   "execution_count": null,
   "metadata": {},
   "outputs": [],
   "source": []
  },
  {
   "cell_type": "markdown",
   "metadata": {},
   "source": []
  },
  {
   "cell_type": "markdown",
   "metadata": {},
   "source": [
    "---\n",
    "\n",
    "### Task 9 (15 points)\n",
    "\n",
    "Create a data visualization that supports the answer to your policy question. Follow the best practices we discussed in class for visualizing data."
   ]
  },
  {
   "cell_type": "code",
   "execution_count": null,
   "metadata": {},
   "outputs": [],
   "source": []
  }
 ],
 "metadata": {
  "kernelspec": {
   "display_name": "Python 3 (ipykernel)",
   "language": "python",
   "name": "python3"
  },
  "language_info": {
   "codemirror_mode": {
    "name": "ipython",
    "version": 3
   },
   "file_extension": ".py",
   "mimetype": "text/x-python",
   "name": "python",
   "nbconvert_exporter": "python",
   "pygments_lexer": "ipython3",
   "version": "3.8.8"
  }
 },
 "nbformat": 4,
 "nbformat_minor": 4
}
